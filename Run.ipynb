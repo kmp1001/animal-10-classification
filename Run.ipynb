{
 "cells": [
  {
   "cell_type": "code",
   "execution_count": 7,
   "id": "318809a6-66f1-4448-88ed-76d8a6d6262c",
   "metadata": {},
   "outputs": [
    {
     "name": "stdout",
     "output_type": "stream",
     "text": [
      "Using device: cuda\n",
      "Dataset sizes: train=14720, val=1840, test=1840\n",
      "train_loader=230, val_loader=29, test_loader=29\n"
     ]
    }
   ],
   "source": [
    "# ========================= 📚 导入必要的库 =========================\n",
    "# 系统与工具库\n",
    "import os  # 处理文件路径和目录操作\n",
    "import random  # 生成随机数，用于随机种子\n",
    "import numpy as np  # 科学计算库\n",
    "import matplotlib.pyplot as plt  # 数据可视化\n",
    "import seaborn as sns  # 高级可视化库，通常与Matplotlib配合使用\n",
    "from math import cos, pi  # 数学函数\n",
    "from tqdm import tqdm  # 显示进度条，方便观察训练过程\n",
    "\n",
    "# 深度学习相关库\n",
    "import torch  # PyTorch主库\n",
    "import torch.nn as nn  # 神经网络模块\n",
    "import torch.nn.functional as F  # 常用神经网络函数（如激活函数、损失函数等）\n",
    "import torch.optim as optim  # 优化器模块\n",
    "from torch.cuda import amp  # 自动混合精度训练（加速训练，减少显存使用）\n",
    "from torch.utils.data import DataLoader  # 数据加载器，用于批量加载数据\n",
    "\n",
    "# 图像数据处理\n",
    "from torchvision import transforms, datasets  # 数据增强和常用数据集\n",
    "from torchvision.transforms import RandAugment  # 自动数据增强工具\n",
    "\n",
    "# 评估指标\n",
    "from sklearn.metrics import (accuracy_score, precision_score, recall_score,\n",
    "                             f1_score, classification_report, confusion_matrix)  # 计算分类任务的性能指标\n",
    "\n",
    "# ========================= 🎯 设置随机种子 =========================\n",
    "def set_seed(seed=42):\n",
    "    \"\"\"\n",
    "    设置全局随机种子，确保实验结果可复现。\n",
    "    \"\"\"\n",
    "    random.seed(seed)  # Python内置的随机数生成器\n",
    "    np.random.seed(seed)  # Numpy随机数生成器\n",
    "    torch.manual_seed(seed)  # PyTorch CPU随机数生成器\n",
    "    torch.cuda.manual_seed(seed)  # PyTorch GPU随机数生成器\n",
    "    torch.cuda.manual_seed_all(seed)  # 多GPU随机数生成器\n",
    "    torch.backends.cudnn.deterministic = True  # 保证CUDA的确定性行为\n",
    "    torch.backends.cudnn.benchmark = False  # 禁用自动优化，以确保一致性\n",
    "\n",
    "# 调用随机种子函数\n",
    "set_seed(42)\n",
    "\n",
    "# ========================= 💻 选择计算设备 =========================\n",
    "# 根据硬件情况选择GPU或CPU进行训练\n",
    "device = 'cuda' if torch.cuda.is_available() else 'cpu'\n",
    "device = torch.device(device)  # 将设备转化为PyTorch可用格式\n",
    "print(\"Using device:\", device)\n",
    "\n",
    "# ========================= 🖼️ 数据增强与预处理 =========================\n",
    "\n",
    "# 📌 **训练集数据增强**\n",
    "# 使用一系列数据增强操作，增加数据多样性，提高模型泛化能力\n",
    "img_transforms = transforms.Compose([\n",
    "    transforms.RandomHorizontalFlip(p=0.5),  # 50%的概率水平翻转图像\n",
    "    transforms.RandomRotation(degrees=15),  # 随机旋转角度范围[-15°, 15°]\n",
    "    transforms.RandomResizedCrop(224, scale=(0.8, 1.0)),  # 随机裁剪并调整到224x224\n",
    "    transforms.ColorJitter(brightness=0.3, contrast=0.3, saturation=0.1, hue=0.1),  # 调整亮度、对比度等\n",
    "    transforms.RandomGrayscale(p=0.1),  # 10%的概率将图像转为灰度\n",
    "    transforms.ToTensor(),  # 将图像转换为PyTorch张量\n",
    "    transforms.Normalize(mean=[0.485, 0.456, 0.406], std=[0.229, 0.224, 0.225])  # 标准化到ImageNet均值和标准差\n",
    "])\n",
    "\n",
    "# 📌 **验证集和测试集数据预处理**\n",
    "# 通常验证集和测试集不需要进行复杂的数据增强，确保评估结果稳定\n",
    "val_test_transform = transforms.Compose([\n",
    "    transforms.Resize((224, 224)),  # 调整图像大小为224x224\n",
    "    transforms.ToTensor(),  # 转换为张量\n",
    "    transforms.Normalize(mean=[0.485, 0.456, 0.406], std=[0.229, 0.224, 0.225])  # 标准化\n",
    "])\n",
    "\n",
    "# ========================= 📂 加载数据集 =========================\n",
    "# 从指定路径加载训练、验证和测试数据集\n",
    "train_dataset = datasets.ImageFolder(root='animal_10/train', transform=img_transforms)\n",
    "val_dataset = datasets.ImageFolder(root='animal_10/val', transform=val_test_transform)\n",
    "test_dataset = datasets.ImageFolder(root='animal_10/test', transform=val_test_transform)\n",
    "\n",
    "# 打印数据集大小信息\n",
    "print(\"Dataset sizes:\",\n",
    "      f\"train={len(train_dataset)}, val={len(val_dataset)}, test={len(test_dataset)}\")\n",
    "\n",
    "# ========================= 🚚 数据加载器 =========================\n",
    "# 使用DataLoader批量加载数据，提高训练效率\n",
    "batch_size = 32  # 每批加载32张图片\n",
    "train_loader = DataLoader(train_dataset, batch_size=batch_size, shuffle=True, num_workers=8, pin_memory=True)\n",
    "val_loader = DataLoader(val_dataset, batch_size=batch_size, shuffle=False, num_workers=8, pin_memory=True)\n",
    "test_loader = DataLoader(test_dataset, batch_size=batch_size, shuffle=False, num_workers=8, pin_memory=True)\n",
    "\n",
    "# 打印加载器的批次数量\n",
    "print(f\"train_loader={len(train_loader)}, val_loader={len(val_loader)}, test_loader={len(test_loader)}\")\n",
    "\n",
    "# ========================= 🔀 MixUp & CutMix =========================\n",
    "# 📌 **MixUp数据增强函数**\n",
    "def mixup_data(x, y, alpha=1.0):\n",
    "    \"\"\"\n",
    "    实现MixUp数据增强，混合两张图像及其标签。\n",
    "    Args:\n",
    "        x: 图像张量\n",
    "        y: 标签张量\n",
    "        alpha: Beta分布的alpha参数，控制混合程度\n",
    "    Returns:\n",
    "        混合后的图像和标签\n",
    "    \"\"\"\n",
    "    if alpha <= 0:\n",
    "        return x, y, y, 1.0\n",
    "    lam = np.random.beta(alpha, alpha)  # 从Beta分布中采样lambda值\n",
    "    index = torch.randperm(x.size(0)).to(x.device)  # 随机打乱索引\n",
    "    mixed_x = lam * x + (1 - lam) * x[index, :]  # 按比例混合图像\n",
    "    y_a, y_b = y, y[index]  # 获取对应的标签\n",
    "    return mixed_x, y_a, y_b, lam\n",
    "\n",
    "# 📌 **CutMix数据增强函数**\n",
    "def cutmix_data(x, y, alpha=1.0):\n",
    "    \"\"\"\n",
    "    实现CutMix数据增强，通过随机裁剪和拼接图像进行增强。\n",
    "    \"\"\"\n",
    "    if alpha <= 0:\n",
    "        return x, y, y, 1.0\n",
    "    lam = np.random.beta(alpha, alpha)  # 从Beta分布中采样lambda值\n",
    "    rand_index = torch.randperm(x.size(0)).to(x.device)  # 随机打乱索引\n",
    "    y_a = y\n",
    "    y_b = y[rand_index]\n",
    "    bbx1, bby1, bbx2, bby2 = rand_bbox(x.size(), lam)  # 生成裁剪区域\n",
    "    x[:, :, bby1:bby2, bbx1:bbx2] = x[rand_index, :, bby1:bby2, bbx1:bbx2]\n",
    "    lam = 1 - (bbx2 - bbx1) * (bby2 - bby1) / (x.size(-1) * x.size(-2))\n",
    "    return x, y_a, y_b, lam\n"
   ]
  },
  {
   "cell_type": "code",
   "execution_count": 8,
   "id": "5c3af0ac-3499-43bc-83db-ebdb1617a703",
   "metadata": {},
   "outputs": [],
   "source": [
    "class ECAAttention(nn.Module):\n",
    "    def __init__(self, channel, k_size=3):\n",
    "        super(ECAAttention, self).__init__()\n",
    "        self.avg_pool = nn.AdaptiveAvgPool2d(1)  # 自适应平均池化，将特征图缩减到 1x1\n",
    "        self.conv = nn.Conv1d(1, 1, kernel_size=k_size, padding=(k_size - 1)//2, bias=False)  # 使用1D卷积捕获通道注意力\n",
    "        self.sigmoid = nn.Sigmoid()  # 激活函数，将输出映射到(0,1)之间\n",
    "\n",
    "    def forward(self, x):\n",
    "        b, c, h, w = x.size()  # 获取批量大小、通道数、高度、宽度\n",
    "        y = self.avg_pool(x)  # 对每个通道进行全局平均池化，尺寸变为 (B, C, 1, 1)\n",
    "        y = self.conv(y.squeeze(-1).transpose(-1, -2)).transpose(-1, -2).unsqueeze(-1)\n",
    "        # squeeze: 移除最后一个维度\n",
    "        # transpose: 转换维度，使通道作为时间步传入1D卷积\n",
    "        # unsqueeze: 恢复原来的形状\n",
    "        y = self.sigmoid(y)  # 通过Sigmoid激活\n",
    "        return x * y  # 将注意力权重与输入特征逐通道相乘\n",
    "def conv_bn(inp, oup, kernel_size, stride=1, activation=nn.Hardswish):\n",
    "    return nn.Sequential(\n",
    "        nn.Conv2d(inp, oup, kernel_size, stride, (kernel_size // 2), bias=False),  # 2D卷积层\n",
    "        nn.BatchNorm2d(oup),  # 批标准化，稳定训练\n",
    "        activation(inplace=True)  # 使用 Hardswish 作为激活函数\n",
    "    )\n",
    "\n",
    "class InvertedResidualECA(nn.Module):\n",
    "    def __init__(self, inp, oup, stride, expand_ratio, use_eca=False):\n",
    "        super(InvertedResidualECA, self).__init__()\n",
    "        self.stride = stride\n",
    "        hidden_dim = int(round(inp * expand_ratio))  # 根据扩展比例计算中间层通道数\n",
    "        self.use_res_connect = (self.stride == 1 and inp == oup)  # 判断是否使用残差连接\n",
    "\n",
    "        layers = []\n",
    "        activation = nn.Hardswish\n",
    "\n",
    "        # 1x1 卷积：通道扩展\n",
    "        if expand_ratio != 1:\n",
    "            layers.append(conv_bn(inp, hidden_dim, 1, 1, activation))\n",
    "\n",
    "        # 3x3 深度可分离卷积\n",
    "        layers.append(nn.Conv2d(hidden_dim, hidden_dim, 3, stride, 1, groups=hidden_dim, bias=False))\n",
    "        layers.append(nn.BatchNorm2d(hidden_dim))\n",
    "        layers.append(activation(inplace=True))\n",
    "\n",
    "        # 如果启用ECA注意力机制\n",
    "        if use_eca:\n",
    "            layers.append(ECAAttention(hidden_dim))\n",
    "\n",
    "        # 1x1 卷积：通道压缩\n",
    "        layers.append(nn.Conv2d(hidden_dim, oup, 1, 1, 0, bias=False))\n",
    "        layers.append(nn.BatchNorm2d(oup))\n",
    "\n",
    "        self.conv = nn.Sequential(*layers)\n",
    "\n",
    "    def forward(self, x):\n",
    "        out = self.conv(x)\n",
    "        if self.use_res_connect:\n",
    "            return x + out  # 使用残差连接\n",
    "        else:\n",
    "            return out\n",
    "\n",
    "class LiteIResNet(nn.Module):\n",
    "    def __init__(self, num_classes=10):\n",
    "        super(LiteIResNet, self).__init__()\n",
    "        self.stem = conv_bn(3, 16, 3, 2)  # 初始特征提取层\n",
    "\n",
    "        # 配置每个块的参数 (扩展比例, 输出通道, 重复次数, 步长, 是否使用ECA)\n",
    "        block_setting = [\n",
    "            (1, 16, 1, 1, False),\n",
    "            (4, 24, 2, 2, False),\n",
    "            (4, 32, 3, 2, False),\n",
    "            (4, 64, 3, 2, True),\n",
    "            (6, 96, 2, 1, True),\n",
    "            (6, 128, 2, 2, True),\n",
    "        ]\n",
    "\n",
    "        input_channel = 16\n",
    "        features = []\n",
    "        for t, c, n, s, eca in block_setting:\n",
    "            for i in range(n):\n",
    "                stride = s if i == 0 else 1\n",
    "                block = InvertedResidualECA(input_channel, c, stride, t, use_eca=eca)\n",
    "                features.append(block)\n",
    "                input_channel = c\n",
    "\n",
    "        self.features = nn.Sequential(*features)\n",
    "        self.avgpool = nn.AdaptiveAvgPool2d(1)  # 全局平均池化\n",
    "        self.dropout = nn.Dropout(0.3)  # Dropout防止过拟合\n",
    "        self.classifier = nn.Linear(input_channel, num_classes)  # 分类层\n",
    "\n",
    "    def forward(self, x):\n",
    "        x = self.stem(x)\n",
    "        x = self.features(x)\n",
    "        x = self.avgpool(x).view(x.size(0), -1)  # 扁平化\n",
    "        x = self.dropout(x)  # Dropout\n",
    "        logits = self.classifier(x)  # 分类\n",
    "        return logits\n",
    "\n",
    "\n",
    "class LabelSmoothingCrossEntropy(nn.Module):\n",
    "    def __init__(self, smoothing=0.1):\n",
    "        super(LabelSmoothingCrossEntropy, self).__init__()\n",
    "        self.smoothing = smoothing\n",
    "        self.log_softmax = nn.LogSoftmax(dim=-1)\n",
    "\n",
    "    def forward(self, preds, target):\n",
    "        num_classes = preds.size(-1)\n",
    "        log_probs = self.log_softmax(preds)\n",
    "        with torch.no_grad():\n",
    "            true_dist = torch.zeros_like(preds).fill_(self.smoothing / (num_classes - 1))\n",
    "            true_dist.scatter_(1, target.data.unsqueeze(1), 1.0 - self.smoothing)\n",
    "        return torch.mean(torch.sum(-true_dist * log_probs, dim=-1))\n",
    "\n"
   ]
  },
  {
   "cell_type": "code",
   "execution_count": 10,
   "id": "486c5028-ac57-44fa-914e-39af963a75b6",
   "metadata": {},
   "outputs": [
    {
     "name": "stdout",
     "output_type": "stream",
     "text": [
      "Using device: cuda\n",
      "Dataset sizes: train=14720, val=1840, test=1840\n",
      "train_loader=920, val_loader=115, test_loader=115\n",
      "\n",
      "Epoch 1/150\n"
     ]
    },
    {
     "name": "stderr",
     "output_type": "stream",
     "text": [
      "                                                                                  \r"
     ]
    },
    {
     "name": "stdout",
     "output_type": "stream",
     "text": [
      "Epoch 1/150, Train Loss: 2.2392, Val Loss: 1.9771, Val Acc: 0.3120\n",
      "\n",
      "Epoch 2/150\n"
     ]
    },
    {
     "name": "stderr",
     "output_type": "stream",
     "text": [
      "                                                                                  \r"
     ]
    },
    {
     "name": "stdout",
     "output_type": "stream",
     "text": [
      "Epoch 2/150, Train Loss: 2.1155, Val Loss: 1.8368, Val Acc: 0.4005\n",
      "\n",
      "Epoch 3/150\n"
     ]
    },
    {
     "name": "stderr",
     "output_type": "stream",
     "text": [
      "                                                                                  \r"
     ]
    },
    {
     "name": "stdout",
     "output_type": "stream",
     "text": [
      "Epoch 3/150, Train Loss: 2.0415, Val Loss: 1.7108, Val Acc: 0.4261\n",
      "\n",
      "Epoch 4/150\n"
     ]
    },
    {
     "name": "stderr",
     "output_type": "stream",
     "text": [
      "                                                                                  \r"
     ]
    },
    {
     "name": "stdout",
     "output_type": "stream",
     "text": [
      "Epoch 4/150, Train Loss: 1.9827, Val Loss: 1.6327, Val Acc: 0.4897\n",
      "\n",
      "Epoch 5/150\n"
     ]
    },
    {
     "name": "stderr",
     "output_type": "stream",
     "text": [
      "                                                                                  \r"
     ]
    },
    {
     "name": "stdout",
     "output_type": "stream",
     "text": [
      "Epoch 5/150, Train Loss: 1.9290, Val Loss: 1.5339, Val Acc: 0.5495\n",
      "\n",
      "Epoch 6/150\n"
     ]
    },
    {
     "name": "stderr",
     "output_type": "stream",
     "text": [
      "                                                                                   \r"
     ]
    },
    {
     "name": "stdout",
     "output_type": "stream",
     "text": [
      "Epoch 6/150, Train Loss: 1.8816, Val Loss: 1.4624, Val Acc: 0.6065\n",
      "\n",
      "Epoch 7/150\n"
     ]
    },
    {
     "name": "stderr",
     "output_type": "stream",
     "text": [
      "                                                                                   \r"
     ]
    },
    {
     "name": "stdout",
     "output_type": "stream",
     "text": [
      "Epoch 7/150, Train Loss: 1.8362, Val Loss: 1.4430, Val Acc: 0.5853\n",
      "\n",
      "Epoch 8/150\n"
     ]
    },
    {
     "name": "stderr",
     "output_type": "stream",
     "text": [
      "                                                                                   \r"
     ]
    },
    {
     "name": "stdout",
     "output_type": "stream",
     "text": [
      "Epoch 8/150, Train Loss: 1.7871, Val Loss: 1.4066, Val Acc: 0.6315\n",
      "\n",
      "Epoch 9/150\n"
     ]
    },
    {
     "name": "stderr",
     "output_type": "stream",
     "text": [
      "                                                                                   \r"
     ]
    },
    {
     "name": "stdout",
     "output_type": "stream",
     "text": [
      "Epoch 9/150, Train Loss: 1.7684, Val Loss: 1.3284, Val Acc: 0.6636\n",
      "\n",
      "Epoch 10/150\n"
     ]
    },
    {
     "name": "stderr",
     "output_type": "stream",
     "text": [
      "                                                                                   \r"
     ]
    },
    {
     "name": "stdout",
     "output_type": "stream",
     "text": [
      "Epoch 10/150, Train Loss: 1.7388, Val Loss: 1.3118, Val Acc: 0.6658\n",
      "\n",
      "Epoch 11/150\n"
     ]
    },
    {
     "name": "stderr",
     "output_type": "stream",
     "text": [
      "                                                                                    \r"
     ]
    },
    {
     "name": "stdout",
     "output_type": "stream",
     "text": [
      "Epoch 11/150, Train Loss: 1.6997, Val Loss: 1.2613, Val Acc: 0.6870\n",
      "\n",
      "Epoch 12/150\n"
     ]
    },
    {
     "name": "stderr",
     "output_type": "stream",
     "text": [
      "                                                                                    \r"
     ]
    },
    {
     "name": "stdout",
     "output_type": "stream",
     "text": [
      "Epoch 12/150, Train Loss: 1.6803, Val Loss: 1.2630, Val Acc: 0.6864\n",
      "\n",
      "Epoch 13/150\n"
     ]
    },
    {
     "name": "stderr",
     "output_type": "stream",
     "text": [
      "                                                                                    \r"
     ]
    },
    {
     "name": "stdout",
     "output_type": "stream",
     "text": [
      "Epoch 13/150, Train Loss: 1.6460, Val Loss: 1.1967, Val Acc: 0.7158\n",
      "\n",
      "Epoch 14/150\n"
     ]
    },
    {
     "name": "stderr",
     "output_type": "stream",
     "text": [
      "                                                                                    \r"
     ]
    },
    {
     "name": "stdout",
     "output_type": "stream",
     "text": [
      "Epoch 14/150, Train Loss: 1.6460, Val Loss: 1.1856, Val Acc: 0.7315\n",
      "\n",
      "Epoch 15/150\n"
     ]
    },
    {
     "name": "stderr",
     "output_type": "stream",
     "text": [
      "                                                                                   \r"
     ]
    },
    {
     "name": "stdout",
     "output_type": "stream",
     "text": [
      "Epoch 15/150, Train Loss: 1.6277, Val Loss: 1.1823, Val Acc: 0.7418\n",
      "\n",
      "Epoch 16/150\n"
     ]
    },
    {
     "name": "stderr",
     "output_type": "stream",
     "text": [
      "                                                                                    \r"
     ]
    },
    {
     "name": "stdout",
     "output_type": "stream",
     "text": [
      "Epoch 16/150, Train Loss: 1.5971, Val Loss: 1.1606, Val Acc: 0.7484\n",
      "\n",
      "Epoch 17/150\n"
     ]
    },
    {
     "name": "stderr",
     "output_type": "stream",
     "text": [
      "                                                                                    \r"
     ]
    },
    {
     "name": "stdout",
     "output_type": "stream",
     "text": [
      "Epoch 17/150, Train Loss: 1.5919, Val Loss: 1.1324, Val Acc: 0.7543\n",
      "\n",
      "Epoch 18/150\n"
     ]
    },
    {
     "name": "stderr",
     "output_type": "stream",
     "text": [
      "                                                                                    \r"
     ]
    },
    {
     "name": "stdout",
     "output_type": "stream",
     "text": [
      "Epoch 18/150, Train Loss: 1.5881, Val Loss: 1.1096, Val Acc: 0.7712\n",
      "\n",
      "Epoch 19/150\n"
     ]
    },
    {
     "name": "stderr",
     "output_type": "stream",
     "text": [
      "                                                                                    \r"
     ]
    },
    {
     "name": "stdout",
     "output_type": "stream",
     "text": [
      "Epoch 19/150, Train Loss: 1.5744, Val Loss: 1.1132, Val Acc: 0.7641\n",
      "\n",
      "Epoch 20/150\n"
     ]
    },
    {
     "name": "stderr",
     "output_type": "stream",
     "text": [
      "                                                                                    \r"
     ]
    },
    {
     "name": "stdout",
     "output_type": "stream",
     "text": [
      "Epoch 20/150, Train Loss: 1.5487, Val Loss: 1.0930, Val Acc: 0.7734\n",
      "\n",
      "Epoch 21/150\n"
     ]
    },
    {
     "name": "stderr",
     "output_type": "stream",
     "text": [
      "                                                                                    \r"
     ]
    },
    {
     "name": "stdout",
     "output_type": "stream",
     "text": [
      "Epoch 21/150, Train Loss: 1.5347, Val Loss: 1.0906, Val Acc: 0.7734\n",
      "\n",
      "Epoch 22/150\n"
     ]
    },
    {
     "name": "stderr",
     "output_type": "stream",
     "text": [
      "                                                                                    \r"
     ]
    },
    {
     "name": "stdout",
     "output_type": "stream",
     "text": [
      "Epoch 22/150, Train Loss: 1.5120, Val Loss: 1.0607, Val Acc: 0.7880\n",
      "\n",
      "Epoch 23/150\n"
     ]
    },
    {
     "name": "stderr",
     "output_type": "stream",
     "text": [
      "                                                                                    \r"
     ]
    },
    {
     "name": "stdout",
     "output_type": "stream",
     "text": [
      "Epoch 23/150, Train Loss: 1.5079, Val Loss: 1.0399, Val Acc: 0.8033\n",
      "\n",
      "Epoch 24/150\n"
     ]
    },
    {
     "name": "stderr",
     "output_type": "stream",
     "text": [
      "                                                                                    \r"
     ]
    },
    {
     "name": "stdout",
     "output_type": "stream",
     "text": [
      "Epoch 24/150, Train Loss: 1.5203, Val Loss: 1.0591, Val Acc: 0.7962\n",
      "\n",
      "Epoch 25/150\n"
     ]
    },
    {
     "name": "stderr",
     "output_type": "stream",
     "text": [
      "                                                                                    \r"
     ]
    },
    {
     "name": "stdout",
     "output_type": "stream",
     "text": [
      "Epoch 25/150, Train Loss: 1.4938, Val Loss: 1.0329, Val Acc: 0.8071\n",
      "\n",
      "Epoch 26/150\n"
     ]
    },
    {
     "name": "stderr",
     "output_type": "stream",
     "text": [
      "                                                                                   \r"
     ]
    },
    {
     "name": "stdout",
     "output_type": "stream",
     "text": [
      "Epoch 26/150, Train Loss: 1.4824, Val Loss: 1.0320, Val Acc: 0.8152\n",
      "\n",
      "Epoch 27/150\n"
     ]
    },
    {
     "name": "stderr",
     "output_type": "stream",
     "text": [
      "                                                                                    \r"
     ]
    },
    {
     "name": "stdout",
     "output_type": "stream",
     "text": [
      "Epoch 27/150, Train Loss: 1.4754, Val Loss: 1.0358, Val Acc: 0.8038\n",
      "\n",
      "Epoch 28/150\n"
     ]
    },
    {
     "name": "stderr",
     "output_type": "stream",
     "text": [
      "                                                                                    \r"
     ]
    },
    {
     "name": "stdout",
     "output_type": "stream",
     "text": [
      "Epoch 28/150, Train Loss: 1.4840, Val Loss: 1.0161, Val Acc: 0.8185\n",
      "\n",
      "Epoch 29/150\n"
     ]
    },
    {
     "name": "stderr",
     "output_type": "stream",
     "text": [
      "                                                                                    \r"
     ]
    },
    {
     "name": "stdout",
     "output_type": "stream",
     "text": [
      "Epoch 29/150, Train Loss: 1.4597, Val Loss: 1.0085, Val Acc: 0.8223\n",
      "\n",
      "Epoch 30/150\n"
     ]
    },
    {
     "name": "stderr",
     "output_type": "stream",
     "text": [
      "                                                                                    \r"
     ]
    },
    {
     "name": "stdout",
     "output_type": "stream",
     "text": [
      "Epoch 30/150, Train Loss: 1.4645, Val Loss: 1.0089, Val Acc: 0.8255\n",
      "\n",
      "Epoch 31/150\n"
     ]
    },
    {
     "name": "stderr",
     "output_type": "stream",
     "text": [
      "                                                                                    \r"
     ]
    },
    {
     "name": "stdout",
     "output_type": "stream",
     "text": [
      "Epoch 31/150, Train Loss: 1.4415, Val Loss: 0.9937, Val Acc: 0.8201\n",
      "\n",
      "Epoch 32/150\n"
     ]
    },
    {
     "name": "stderr",
     "output_type": "stream",
     "text": [
      "                                                                                    \r"
     ]
    },
    {
     "name": "stdout",
     "output_type": "stream",
     "text": [
      "Epoch 32/150, Train Loss: 1.4632, Val Loss: 1.0072, Val Acc: 0.8277\n",
      "\n",
      "Epoch 33/150\n"
     ]
    },
    {
     "name": "stderr",
     "output_type": "stream",
     "text": [
      "                                                                                    \r"
     ]
    },
    {
     "name": "stdout",
     "output_type": "stream",
     "text": [
      "Epoch 33/150, Train Loss: 1.4423, Val Loss: 0.9785, Val Acc: 0.8418\n",
      "\n",
      "Epoch 34/150\n"
     ]
    },
    {
     "name": "stderr",
     "output_type": "stream",
     "text": [
      "                                                                                    \r"
     ]
    },
    {
     "name": "stdout",
     "output_type": "stream",
     "text": [
      "Epoch 46/150, Train Loss: 1.3516, Val Loss: 0.9321, Val Acc: 0.8603\n",
      "\n",
      "Epoch 47/150\n"
     ]
    },
    {
     "name": "stderr",
     "output_type": "stream",
     "text": [
      "                                                                                    \r"
     ]
    },
    {
     "name": "stdout",
     "output_type": "stream",
     "text": [
      "Epoch 47/150, Train Loss: 1.3530, Val Loss: 0.9163, Val Acc: 0.8620\n",
      "\n",
      "Epoch 48/150\n"
     ]
    },
    {
     "name": "stderr",
     "output_type": "stream",
     "text": [
      "Training Epoch[47]:  69%|██████▉   | 637/920 [00:14<00:06, 46.14it/s, loss=0.759]IOPub message rate exceeded.\n",
      "The Jupyter server will temporarily stop sending output\n",
      "to the client in order to avoid crashing it.\n",
      "To change this limit, set the config variable\n",
      "`--ServerApp.iopub_msg_rate_limit`.\n",
      "\n",
      "Current values:\n",
      "ServerApp.iopub_msg_rate_limit=1000.0 (msgs/sec)\n",
      "ServerApp.rate_limit_window=3.0 (secs)\n",
      "\n",
      "                                                                                    \r"
     ]
    },
    {
     "name": "stdout",
     "output_type": "stream",
     "text": [
      "Epoch 57/150, Train Loss: 1.3150, Val Loss: 0.9214, Val Acc: 0.8728\n",
      "\n",
      "Epoch 58/150\n"
     ]
    },
    {
     "name": "stderr",
     "output_type": "stream",
     "text": [
      "                                                                                    \r"
     ]
    },
    {
     "name": "stdout",
     "output_type": "stream",
     "text": [
      "Epoch 58/150, Train Loss: 1.3074, Val Loss: 0.9020, Val Acc: 0.8750\n",
      "\n",
      "Epoch 59/150\n"
     ]
    },
    {
     "name": "stderr",
     "output_type": "stream",
     "text": [
      "                                                                                    \r"
     ]
    },
    {
     "name": "stdout",
     "output_type": "stream",
     "text": [
      "Epoch 59/150, Train Loss: 1.3114, Val Loss: 0.8990, Val Acc: 0.8821\n",
      "\n",
      "Epoch 60/150\n"
     ]
    },
    {
     "name": "stderr",
     "output_type": "stream",
     "text": [
      "                                                                                    \r"
     ]
    },
    {
     "name": "stdout",
     "output_type": "stream",
     "text": [
      "Epoch 60/150, Train Loss: 1.3169, Val Loss: 0.8956, Val Acc: 0.8842\n",
      "\n",
      "Epoch 61/150\n"
     ]
    },
    {
     "name": "stderr",
     "output_type": "stream",
     "text": [
      "                                                                                    \r"
     ]
    },
    {
     "name": "stdout",
     "output_type": "stream",
     "text": [
      "Epoch 61/150, Train Loss: 1.3056, Val Loss: 0.9000, Val Acc: 0.8755\n",
      "\n",
      "Epoch 62/150\n"
     ]
    },
    {
     "name": "stderr",
     "output_type": "stream",
     "text": [
      "                                                                                    \r"
     ]
    },
    {
     "name": "stdout",
     "output_type": "stream",
     "text": [
      "Epoch 62/150, Train Loss: 1.3067, Val Loss: 0.9068, Val Acc: 0.8766\n",
      "\n",
      "Epoch 63/150\n"
     ]
    },
    {
     "name": "stderr",
     "output_type": "stream",
     "text": [
      "Training Epoch[62]:  15%|█▌        | 140/920 [00:03<00:17, 44.96it/s, loss=1.29] IOPub message rate exceeded.\n",
      "The Jupyter server will temporarily stop sending output\n",
      "to the client in order to avoid crashing it.\n",
      "To change this limit, set the config variable\n",
      "`--ServerApp.iopub_msg_rate_limit`.\n",
      "\n",
      "Current values:\n",
      "ServerApp.iopub_msg_rate_limit=1000.0 (msgs/sec)\n",
      "ServerApp.rate_limit_window=3.0 (secs)\n",
      "\n",
      "                                                                                    \r"
     ]
    },
    {
     "name": "stdout",
     "output_type": "stream",
     "text": [
      "Epoch 64/150, Train Loss: 1.3108, Val Loss: 0.8934, Val Acc: 0.8837\n",
      "\n",
      "Epoch 65/150\n"
     ]
    },
    {
     "name": "stderr",
     "output_type": "stream",
     "text": [
      "                                                                                    \r"
     ]
    },
    {
     "name": "stdout",
     "output_type": "stream",
     "text": [
      "Epoch 65/150, Train Loss: 1.3030, Val Loss: 0.8974, Val Acc: 0.8832\n",
      "\n",
      "Epoch 66/150\n"
     ]
    },
    {
     "name": "stderr",
     "output_type": "stream",
     "text": [
      "                                                                                    \r"
     ]
    },
    {
     "name": "stdout",
     "output_type": "stream",
     "text": [
      "Epoch 66/150, Train Loss: 1.2916, Val Loss: 0.8909, Val Acc: 0.8837\n",
      "\n",
      "Epoch 67/150\n"
     ]
    },
    {
     "name": "stderr",
     "output_type": "stream",
     "text": [
      "                                                                                    \r"
     ]
    },
    {
     "name": "stdout",
     "output_type": "stream",
     "text": [
      "Epoch 67/150, Train Loss: 1.3110, Val Loss: 0.8708, Val Acc: 0.8908\n",
      "\n",
      "Epoch 68/150\n"
     ]
    },
    {
     "name": "stderr",
     "output_type": "stream",
     "text": [
      "                                                                                    \r"
     ]
    },
    {
     "name": "stdout",
     "output_type": "stream",
     "text": [
      "Epoch 68/150, Train Loss: 1.2952, Val Loss: 0.8836, Val Acc: 0.8837\n",
      "\n",
      "Epoch 69/150\n"
     ]
    },
    {
     "name": "stderr",
     "output_type": "stream",
     "text": [
      "                                                                                    \r"
     ]
    },
    {
     "name": "stdout",
     "output_type": "stream",
     "text": [
      "Epoch 69/150, Train Loss: 1.2701, Val Loss: 0.8794, Val Acc: 0.8880\n",
      "\n",
      "Epoch 70/150\n"
     ]
    },
    {
     "name": "stderr",
     "output_type": "stream",
     "text": [
      "                                                                                    \r"
     ]
    },
    {
     "name": "stdout",
     "output_type": "stream",
     "text": [
      "Epoch 70/150, Train Loss: 1.2969, Val Loss: 0.8969, Val Acc: 0.8886\n",
      "\n",
      "Epoch 71/150\n"
     ]
    },
    {
     "name": "stderr",
     "output_type": "stream",
     "text": [
      "                                                                                    \r"
     ]
    },
    {
     "name": "stdout",
     "output_type": "stream",
     "text": [
      "Epoch 71/150, Train Loss: 1.3001, Val Loss: 0.8970, Val Acc: 0.8853\n",
      "\n",
      "Epoch 72/150\n"
     ]
    },
    {
     "name": "stderr",
     "output_type": "stream",
     "text": [
      "                                                                                    \r"
     ]
    },
    {
     "name": "stdout",
     "output_type": "stream",
     "text": [
      "Epoch 72/150, Train Loss: 1.2925, Val Loss: 0.8851, Val Acc: 0.8848\n",
      "\n",
      "Epoch 73/150\n"
     ]
    },
    {
     "name": "stderr",
     "output_type": "stream",
     "text": [
      "                                                                                    \r"
     ]
    },
    {
     "name": "stdout",
     "output_type": "stream",
     "text": [
      "Epoch 73/150, Train Loss: 1.2948, Val Loss: 0.8699, Val Acc: 0.8886\n",
      "\n",
      "Epoch 74/150\n"
     ]
    },
    {
     "name": "stderr",
     "output_type": "stream",
     "text": [
      "                                                                                    \r"
     ]
    },
    {
     "name": "stdout",
     "output_type": "stream",
     "text": [
      "Epoch 74/150, Train Loss: 1.2934, Val Loss: 0.8619, Val Acc: 0.8886\n",
      "\n",
      "Epoch 75/150\n"
     ]
    },
    {
     "name": "stderr",
     "output_type": "stream",
     "text": [
      "                                                                                    \r"
     ]
    },
    {
     "name": "stdout",
     "output_type": "stream",
     "text": [
      "Epoch 75/150, Train Loss: 1.2842, Val Loss: 0.8728, Val Acc: 0.8832\n",
      "\n",
      "Epoch 76/150\n"
     ]
    },
    {
     "name": "stderr",
     "output_type": "stream",
     "text": [
      "                                                                                    \r"
     ]
    },
    {
     "name": "stdout",
     "output_type": "stream",
     "text": [
      "Epoch 76/150, Train Loss: 1.2851, Val Loss: 0.8964, Val Acc: 0.8891\n",
      "\n",
      "Epoch 77/150\n"
     ]
    },
    {
     "name": "stderr",
     "output_type": "stream",
     "text": [
      "                                                                                    \r"
     ]
    },
    {
     "name": "stdout",
     "output_type": "stream",
     "text": [
      "Epoch 77/150, Train Loss: 1.2866, Val Loss: 0.9040, Val Acc: 0.8859\n",
      "\n",
      "Epoch 78/150\n"
     ]
    },
    {
     "name": "stderr",
     "output_type": "stream",
     "text": [
      "                                                                                    \r"
     ]
    },
    {
     "name": "stdout",
     "output_type": "stream",
     "text": [
      "Epoch 78/150, Train Loss: 1.2922, Val Loss: 0.8807, Val Acc: 0.8875\n",
      "\n",
      "Epoch 79/150\n"
     ]
    },
    {
     "name": "stderr",
     "output_type": "stream",
     "text": [
      "                                                                                    \r"
     ]
    },
    {
     "name": "stdout",
     "output_type": "stream",
     "text": [
      "Epoch 79/150, Train Loss: 1.3054, Val Loss: 0.8838, Val Acc: 0.8842\n",
      "\n",
      "Epoch 80/150\n"
     ]
    },
    {
     "name": "stderr",
     "output_type": "stream",
     "text": [
      "                                                                                    \r"
     ]
    },
    {
     "name": "stdout",
     "output_type": "stream",
     "text": [
      "Epoch 80/150, Train Loss: 1.2965, Val Loss: 0.8729, Val Acc: 0.8853\n",
      "\n",
      "Epoch 81/150\n"
     ]
    },
    {
     "name": "stderr",
     "output_type": "stream",
     "text": [
      "                                                                                    \r"
     ]
    },
    {
     "name": "stdout",
     "output_type": "stream",
     "text": [
      "Epoch 81/150, Train Loss: 1.2865, Val Loss: 0.8843, Val Acc: 0.8853\n",
      "\n",
      "Epoch 82/150\n"
     ]
    },
    {
     "name": "stderr",
     "output_type": "stream",
     "text": [
      "                                                                                    \r"
     ]
    },
    {
     "name": "stdout",
     "output_type": "stream",
     "text": [
      "Epoch 82/150, Train Loss: 1.2989, Val Loss: 0.8705, Val Acc: 0.8870\n",
      "\n",
      "Epoch 83/150\n"
     ]
    },
    {
     "name": "stderr",
     "output_type": "stream",
     "text": [
      "                                                                                   \r"
     ]
    },
    {
     "name": "stdout",
     "output_type": "stream",
     "text": [
      "Epoch 83/150, Train Loss: 1.2841, Val Loss: 0.8780, Val Acc: 0.8859\n",
      "\n",
      "Epoch 84/150\n"
     ]
    },
    {
     "name": "stderr",
     "output_type": "stream",
     "text": [
      "                                                                                    \r"
     ]
    },
    {
     "name": "stdout",
     "output_type": "stream",
     "text": [
      "Early stopping at epoch 84\n"
     ]
    },
    {
     "data": {
      "image/png": "[encoded data removed]",
      "text/plain": [
       "<Figure size 1000x500 with 1 Axes>"
      ]
     },
     "metadata": {},
     "output_type": "display_data"
    },
    {
     "name": "stdout",
     "output_type": "stream",
     "text": [
      "测试集准确率:  90.27%\n",
      "测试集精确率:  90.41%\n",
      "测试集召回率:  90.27%\n",
      "测试集F1分数: 90.26%\n",
      "\n",
      "分类报告：\n",
      "              precision    recall  f1-score   support\n",
      "\n",
      "           0       0.87      0.89      0.88       200\n",
      "           1       0.95      0.93      0.94       200\n",
      "           2       0.90      0.92      0.91       140\n",
      "           3       0.85      0.93      0.89       200\n",
      "           4       0.97      0.92      0.94       200\n",
      "           5       0.87      0.96      0.91       160\n",
      "           6       0.92      0.92      0.92       180\n",
      "           7       0.91      0.85      0.88       180\n",
      "           8       0.89      0.81      0.85       200\n",
      "           9       0.92      0.92      0.92       180\n",
      "\n",
      "    accuracy                           0.90      1840\n",
      "   macro avg       0.90      0.90      0.90      1840\n",
      "weighted avg       0.90      0.90      0.90      1840\n",
      "\n"
     ]
    },
    {
     "name": "stderr",
     "output_type": "stream",
     "text": [
      "/root/miniconda3/lib/python3.10/site-packages/IPython/core/pylabtools.py:152: UserWarning: Glyph 30495 (\\N{CJK UNIFIED IDEOGRAPH-771F}) missing from current font.\n",
      "  fig.canvas.print_figure(bytes_io, **kw)\n",
      "/root/miniconda3/lib/python3.10/site-packages/IPython/core/pylabtools.py:152: UserWarning: Glyph 23454 (\\N{CJK UNIFIED IDEOGRAPH-5B9E}) missing from current font.\n",
      "  fig.canvas.print_figure(bytes_io, **kw)\n",
      "/root/miniconda3/lib/python3.10/site-packages/IPython/core/pylabtools.py:152: UserWarning: Glyph 26631 (\\N{CJK UNIFIED IDEOGRAPH-6807}) missing from current font.\n",
      "  fig.canvas.print_figure(bytes_io, **kw)\n",
      "/root/miniconda3/lib/python3.10/site-packages/IPython/core/pylabtools.py:152: UserWarning: Glyph 31614 (\\N{CJK UNIFIED IDEOGRAPH-7B7E}) missing from current font.\n",
      "  fig.canvas.print_figure(bytes_io, **kw)\n",
      "/root/miniconda3/lib/python3.10/site-packages/IPython/core/pylabtools.py:152: UserWarning: Glyph 28151 (\\N{CJK UNIFIED IDEOGRAPH-6DF7}) missing from current font.\n",
      "  fig.canvas.print_figure(bytes_io, **kw)\n",
      "/root/miniconda3/lib/python3.10/site-packages/IPython/core/pylabtools.py:152: UserWarning: Glyph 28102 (\\N{CJK UNIFIED IDEOGRAPH-6DC6}) missing from current font.\n",
      "  fig.canvas.print_figure(bytes_io, **kw)\n",
      "/root/miniconda3/lib/python3.10/site-packages/IPython/core/pylabtools.py:152: UserWarning: Glyph 30697 (\\N{CJK UNIFIED IDEOGRAPH-77E9}) missing from current font.\n",
      "  fig.canvas.print_figure(bytes_io, **kw)\n",
      "/root/miniconda3/lib/python3.10/site-packages/IPython/core/pylabtools.py:152: UserWarning: Glyph 38453 (\\N{CJK UNIFIED IDEOGRAPH-9635}) missing from current font.\n",
      "  fig.canvas.print_figure(bytes_io, **kw)\n",
      "/root/miniconda3/lib/python3.10/site-packages/IPython/core/pylabtools.py:152: UserWarning: Glyph 39044 (\\N{CJK UNIFIED IDEOGRAPH-9884}) missing from current font.\n",
      "  fig.canvas.print_figure(bytes_io, **kw)\n",
      "/root/miniconda3/lib/python3.10/site-packages/IPython/core/pylabtools.py:152: UserWarning: Glyph 27979 (\\N{CJK UNIFIED IDEOGRAPH-6D4B}) missing from current font.\n",
      "  fig.canvas.print_figure(bytes_io, **kw)\n"
     ]
    },
    {
     "data": {
      "image/png": "[encoded data removed]",
      "text/plain": [
       "<Figure size 1000x800 with 2 Axes>"
      ]
     },
     "metadata": {},
     "output_type": "display_data"
    }
   ],
   "source": [
    "\n",
    "# ========== 训练 & 验证函数  ==========\n",
    "def train_one_epoch(model, dataloader, optimizer, loss_fn, epoch,\n",
    "                    mixup_alpha=0.2, cutmix_alpha=0.0, scaler=None):\n",
    "    \"\"\"\n",
    "    单个训练周期函数，包含 MixUp、CutMix 数据增强和混合精度训练。\n",
    "\n",
    "    参数:\n",
    "        model: 神经网络模型\n",
    "        dataloader: 数据加载器 (训练集)\n",
    "        optimizer: 优化器 (AdamW)\n",
    "        loss_fn: 损失函数 (LabelSmoothingCrossEntropy)\n",
    "        epoch: 当前训练周期索引\n",
    "        mixup_alpha: MixUp 数据增强参数 (控制混合强度)\n",
    "        cutmix_alpha: CutMix 数据增强参数 (控制裁剪混合强度)\n",
    "        scaler: 混合精度训练的比例缩放器 (GradScaler)\n",
    "    \"\"\"\n",
    "    model.train()  # 设置模型为训练模式\n",
    "    epoch_train_loss = 0.0  # 累计训练损失初始化\n",
    "\n",
    "    loader_tqdm = tqdm(dataloader, desc=f\"Training Epoch[{epoch}]\", leave=False)  # 进度条显示\n",
    "\n",
    "    for images, labels in loader_tqdm:\n",
    "        images, labels = images.to(device), labels.to(device)  # 将数据移动到设备上\n",
    "        optimizer.zero_grad()  # 清空之前的梯度\n",
    "\n",
    "        # 开启自动混合精度训练（如果scaler存在）\n",
    "        with amp.autocast(enabled=(scaler is not None)):\n",
    "            # 选择 MixUp 或 CutMix 数据增强\n",
    "            if mixup_alpha > 0.0 and cutmix_alpha > 0.0:\n",
    "                if random.random() < 0.5:\n",
    "                    images, y_a, y_b, lam = mixup_data(images, labels, alpha=mixup_alpha)\n",
    "                else:\n",
    "                    images, y_a, y_b, lam = cutmix_data(images, labels, alpha=cutmix_alpha)\n",
    "            elif mixup_alpha > 0.0:\n",
    "                images, y_a, y_b, lam = mixup_data(images, labels, alpha=mixup_alpha)\n",
    "            elif cutmix_alpha > 0.0:\n",
    "                images, y_a, y_b, lam = cutmix_data(images, labels, alpha=cutmix_alpha)\n",
    "            else:\n",
    "                lam = 1.0\n",
    "                y_a, y_b = labels, labels\n",
    "\n",
    "            outputs = model(images)  # 前向传播\n",
    "            loss = lam * loss_fn(outputs, y_a) + (1 - lam) * loss_fn(outputs, y_b)  # 计算损失\n",
    "\n",
    "        # 梯度更新\n",
    "        if scaler is not None:\n",
    "            scaler.scale(loss).backward()  # 缩放梯度以防止溢出\n",
    "            scaler.step(optimizer)  # 更新优化器参数\n",
    "            scaler.update()  # 调整缩放器比例\n",
    "        else:\n",
    "            loss.backward()  # 反向传播\n",
    "            optimizer.step()  # 更新优化器参数\n",
    "\n",
    "        epoch_train_loss += loss.item() * images.size(0)  # 记录总损失\n",
    "        loader_tqdm.set_postfix(loss=loss.item())  # 在进度条中显示当前批次损失\n",
    "\n",
    "    epoch_train_loss /= len(dataloader.dataset)  # 计算平均损失\n",
    "    return epoch_train_loss\n",
    "def val_one_epoch(model, dataloader, loss_fn, epoch):\n",
    "    \"\"\"\n",
    "    单个验证周期函数，评估模型在验证集上的性能。\n",
    "\n",
    "    参数:\n",
    "        model: 神经网络模型\n",
    "        dataloader: 数据加载器 (验证集)\n",
    "        loss_fn: 损失函数 (LabelSmoothingCrossEntropy)\n",
    "        epoch: 当前验证周期索引\n",
    "    \"\"\"\n",
    "    model.eval()  # 设置模型为验证模式\n",
    "    epoch_val_loss = 0.0  # 初始化验证损失\n",
    "    preds_list = []  # 存储预测结果\n",
    "    labels_list = []  # 存储真实标签\n",
    "\n",
    "    loader_tqdm = tqdm(dataloader, desc=f\"Validating Epoch[{epoch}]\", leave=False)\n",
    "\n",
    "    with torch.no_grad():  # 禁用梯度计算，减少显存占用\n",
    "        for images, labels in loader_tqdm:\n",
    "            images, labels = images.to(device), labels.to(device)\n",
    "            with amp.autocast():\n",
    "                outputs = model(images)  # 前向传播\n",
    "                val_loss = loss_fn(outputs, labels)  # 计算损失\n",
    "\n",
    "            epoch_val_loss += val_loss.item() * images.size(0)\n",
    "            _, predicted = torch.max(outputs, 1)  # 获取预测类别\n",
    "            preds_list.extend(predicted.cpu().numpy())\n",
    "            labels_list.extend(labels.cpu().numpy())\n",
    "            loader_tqdm.set_postfix(loss=val_loss.item())  # 在进度条中显示当前批次损失\n",
    "\n",
    "    epoch_val_loss /= len(dataloader.dataset)  # 计算平均损失\n",
    "    val_acc = accuracy_score(labels_list, preds_list)  # 计算准确率\n",
    "    return epoch_val_loss, val_acc\n",
    "\n",
    "\n",
    "# ========== 创建模型实例 ==========\n",
    "model =  LiteIResNet(num_classes=10).to(device)\n",
    "\n",
    "# ========== 优化器 & 学习率调度器 (使用AdamW + Cosine)\n",
    "# AdamW：改进版Adam，适合Transformer和现代CNN==========\n",
    "optimizer = optim.AdamW(model.parameters(), lr=1e-3, weight_decay=1e-4)\n",
    "scheduler = optim.lr_scheduler.CosineAnnealingLR(optimizer, T_max=80, eta_min=1e-6)\n",
    "\n",
    "loss_fn = LabelSmoothingCrossEntropy(smoothing=0.1)\n",
    "\n",
    "# 早停机制\n",
    "patience = 10\n",
    "best_val_loss = np.inf\n",
    "epochs_no_improve = 0\n",
    "\n",
    "# 混合精度\n",
    "scaler = amp.GradScaler()\n",
    "\n",
    "# 开始训练\n",
    "epochs = 150  # 拉长训练周期，让cosine退火更充分\n",
    "training_loss_history = []\n",
    "validation_loss_history = []\n",
    "\n",
    "for epoch in range(epochs):\n",
    "    print(f\"\\nEpoch {epoch+1}/{epochs}\")\n",
    "\n",
    "    train_loss = train_one_epoch(\n",
    "        model, train_loader, optimizer, loss_fn,\n",
    "        epoch=epoch,\n",
    "        mixup_alpha=0.4,       # 可调 (如0.2, 0.4等)\n",
    "        cutmix_alpha=0.4,      # 可调 (如0.2)\n",
    "        scaler=scaler\n",
    "    )\n",
    "    training_loss_history.append(train_loss)\n",
    "\n",
    "    val_loss, val_acc = val_one_epoch(model, val_loader, loss_fn, epoch=epoch)\n",
    "    validation_loss_history.append(val_loss)\n",
    "\n",
    "    # CosineAnnealing 不学习率采用余弦退火策略，逐渐减小到 eta_min。\n",
    "    scheduler.step()\n",
    "\n",
    "    # Early Stopping：连续10个epoch验证损失没有改善则停止训练。保存验证损失最低的模型。\n",
    "    if val_loss < best_val_loss:\n",
    "        best_val_loss = val_loss\n",
    "        epochs_no_improve = 0\n",
    "        torch.save(model.state_dict(), 'best_model1.pth')\n",
    "    else:\n",
    "        epochs_no_improve += 1\n",
    "        if epochs_no_improve >= patience:\n",
    "            print(f\"Early stopping at epoch {epoch+1}\")\n",
    "            break\n",
    "\n",
    "    print(f\"Epoch {epoch+1}/{epochs}, Train Loss: {train_loss:.4f}, \"\n",
    "          f\"Val Loss: {val_loss:.4f}, Val Acc: {val_acc:.4f}\")\n",
    "\n",
    "plt.figure(figsize=(10,5))\n",
    "plt.plot(training_loss_history, label='Training Loss')\n",
    "plt.plot(validation_loss_history, label='Validation Loss')\n",
    "plt.xlabel('Epoch')\n",
    "plt.ylabel('Loss')\n",
    "plt.legend()\n",
    "plt.title('Training and Validation Loss')\n",
    "plt.show()\n",
    "\n",
    "# ========== TTA推理函数 (不变) ==========\n",
    "def inference_with_tta(model, images, n_augment=5):\n",
    "    \"\"\"\n",
    "    使用 Test-Time Augmentation (TTA) 进行推理。\n",
    "    指的是对同一图像进行多次不同的数据增强推理，将所有推理结果平均。\n",
    "    \"\"\"\n",
    "    model.eval()\n",
    "    final_logits = None\n",
    "    with torch.no_grad():\n",
    "        for _ in range(n_augment):\n",
    "            aug_images = images.clone()\n",
    "            flip_mask = (torch.rand(aug_images.size(0)) > 0.5).to(device)\n",
    "            for i in range(aug_images.size(0)):\n",
    "                if flip_mask[i]:\n",
    "                    aug_images[i] = torch.flip(aug_images[i], dims=[2])\n",
    "            outputs = model(aug_images)\n",
    "            final_logits = outputs if final_logits is None else final_logits + outputs\n",
    "    final_logits = final_logits / n_augment\n",
    "    return final_logits\n",
    "\n",
    "# ========== 测试集上评估 ==========\n",
    "best_model =  LiteIResNet(num_classes=10).to(device)\n",
    "best_model.load_state_dict(torch.load('best_model1.pth'))\n",
    "best_model.eval()\n",
    "\n",
    "predicted_labels = []\n",
    "actual_labels = []\n",
    "\n",
    "with torch.no_grad():\n",
    "    for images, labels in test_loader:\n",
    "        images, labels = images.to(device), labels.to(device)\n",
    "        outputs = inference_with_tta(best_model, images, n_augment=5)\n",
    "        _, predicted = torch.max(outputs, 1)\n",
    "        predicted_labels.extend(predicted.cpu().numpy())\n",
    "        actual_labels.extend(labels.cpu().numpy())\n",
    "\n",
    "accuracy = accuracy_score(actual_labels, predicted_labels)\n",
    "precision = precision_score(actual_labels, predicted_labels, average='weighted', zero_division=0)\n",
    "recall = recall_score(actual_labels, predicted_labels, average='weighted', zero_division=0)\n",
    "f1 = f1_score(actual_labels, predicted_labels, average='weighted', zero_division=0)\n",
    "\n",
    "print(f\"测试集准确率:  {accuracy * 100:.2f}%\")\n",
    "print(f\"测试集精确率:  {precision * 100:.2f}%\")\n",
    "print(f\"测试集召回率:  {recall * 100:.2f}%\")\n",
    "print(f\"测试集F1分数: {f1 * 100:.2f}%\\n\")\n",
    "\n",
    "print(\"分类报告：\")\n",
    "print(classification_report(actual_labels, predicted_labels, zero_division=0))\n",
    "\n",
    "cm = confusion_matrix(actual_labels, predicted_labels)\n",
    "class_names = test_dataset.classes\n",
    "plt.figure(figsize=(10, 8))\n",
    "sns.heatmap(cm, annot=True, fmt='d', xticklabels=class_names, yticklabels=class_names, cmap='Blues')\n",
    "plt.title('混淆矩阵 (Test Set with TTA)')\n",
    "plt.xlabel('预测标签')\n",
    "plt.ylabel('真实标签')\n",
    "plt.show()\n",
    "\n"
   ]
  },
  {
   "cell_type": "code",
   "execution_count": null,
   "id": "2a5e3cfe-a59b-4de7-99b4-bc63ef4ad901",
   "metadata": {},
   "outputs": [],
   "source": []
  },
  {
   "cell_type": "code",
   "execution_count": null,
   "id": "3442ba71-4338-4ce4-8fac-6196d29f9830",
   "metadata": {},
   "outputs": [],
   "source": []
  }
 ],
 "metadata": {
  "kernelspec": {
   "display_name": "Python 3 (ipykernel)",
   "language": "python",
   "name": "python3"
  },
  "language_info": {
   "codemirror_mode": {
    "name": "ipython",
    "version": 3
   },
   "file_extension": ".py",
   "mimetype": "text/x-python",
   "name": "python",
   "nbconvert_exporter": "python",
   "pygments_lexer": "ipython3",
   "version": "3.10.8"
  }
 },
 "nbformat": 4,
 "nbformat_minor": 5
}
